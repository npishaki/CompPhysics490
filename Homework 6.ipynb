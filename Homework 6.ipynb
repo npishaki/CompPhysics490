{
 "cells": [
  {
   "cell_type": "markdown",
   "metadata": {},
   "source": [
    "## Noah Pishaki - Physics 490 - Assignment 6"
   ]
  },
  {
   "cell_type": "code",
   "execution_count": 363,
   "metadata": {},
   "outputs": [],
   "source": [
    "import numpy as np\n",
    "import scipy as sp\n",
    "from scipy.linalg import lu, lu_solve, lu_factor"
   ]
  },
  {
   "cell_type": "markdown",
   "metadata": {},
   "source": [
    "#### Problem 1.) Use LU decomposition to calculate the inverse of a matrix $\\boldsymbol{A}$ and its determinant. Test your answers by comparing to the output of ```np.linalg.inv()``` and ```np.linalg.det().```"
   ]
  },
  {
   "cell_type": "code",
   "execution_count": 364,
   "metadata": {},
   "outputs": [],
   "source": [
    "np.random.seed(1)\n",
    "\n",
    "A = np.random.normal(size = (3, 3)) # 3x3 matrix of random numbers\n"
   ]
  },
  {
   "cell_type": "markdown",
   "metadata": {},
   "source": [
    "Utilizing the Scipy-Module's Linalg Library."
   ]
  },
  {
   "cell_type": "code",
   "execution_count": 365,
   "metadata": {},
   "outputs": [
    {
     "name": "stdout",
     "output_type": "stream",
     "text": [
      "A: [[ 1.62434536 -0.61175641 -0.52817175]\n",
      " [-1.07296862  0.86540763 -2.3015387 ]\n",
      " [ 1.74481176 -0.7612069   0.3190391 ]] \n",
      "\n",
      "P: [[0. 0. 1.]\n",
      " [0. 1. 0.]\n",
      " [1. 0. 0.]] \n",
      "\n",
      "L: [[ 1.          0.          0.        ]\n",
      " [-0.61494807  1.          0.        ]\n",
      " [ 0.93095737  0.24388009  1.        ]] \n",
      "\n",
      "U: [[ 1.74481176 -0.7612069   0.3190391 ]\n",
      " [ 0.          0.39730492 -2.10534622]\n",
      " [ 0.          0.         -0.31173153]] \n",
      "\n"
     ]
    }
   ],
   "source": [
    "P, L, U = sp.linalg.lu(A)\n",
    "\n",
    "print(\"A:\", A, '\\n')\n",
    "print(\"P:\", P, '\\n') # permutation matrix\n",
    "print(\"L:\", L, '\\n') # lower triangular matrix\n",
    "print(\"U:\", U, '\\n') # upper triangular matrix"
   ]
  },
  {
   "cell_type": "markdown",
   "metadata": {},
   "source": [
    "Given a matrix **A** which can be decomposed into both lower and upper triangular matrices, in this case I'll be using a general/arbitrary (3x3),  we know from LU-Decomposition, **A** = **L** **U**. \n",
    "\n",
    "Now assume, $ A = \\begin{bmatrix} a & b & c \\\\ d & e & f \\\\ g & h & i \\end{bmatrix} $ where $L = \\begin{bmatrix} 1 & 0 & 0 \\\\ \\frac{x}{a} & 1 & f \\\\ \\frac{g}{a} & \\frac{h-\\frac{bg}{a}}{e-\\frac{bd}{a}} & 1 \\end{bmatrix} $ is the *lower triangular* matrix and $ U = \\begin{bmatrix} a & b & c \\\\ 0 & e - \\frac{bd}{a} & f-\\frac{cd}{a} \\\\ 0 & 0 & \\frac{(h-\\frac{bg}{a})(f-\\frac{cd}{a})}{e-\\frac{bd}{a}} \\end{bmatrix}  $ is the *upper triangular* matrix.\n",
    "\n",
    "We can then define **A** as,\n",
    "\n",
    "$\\begin{bmatrix} a & b & c \\\\ d & e & f \\\\ g & h & i \\end{bmatrix} = \\begin{bmatrix} 1 & 0 & 0 \\\\ \\frac{x}{a} & 1 & f \\\\ \\frac{g}{a} & \\frac{h-\\frac{bg}{a}}{e-\\frac{bd}{a}} & 1 \\end{bmatrix}\\begin{bmatrix} a & b & c \\\\ 0 & e - \\frac{bd}{a} & f-\\frac{cd}{a} \\\\ 0 & 0 & \\frac{(h-\\frac{bg}{a})(f-\\frac{cd}{a})}{e-\\frac{bd}{a}} \\end{bmatrix}  $\n",
    "\n"
   ]
  },
  {
   "cell_type": "code",
   "execution_count": 366,
   "metadata": {},
   "outputs": [
    {
     "name": "stdout",
     "output_type": "stream",
     "text": [
      "[[ -6.82949293   2.76364776   8.63059432]\n",
      " [-16.99882312   6.66263299  19.92235287]\n",
      " [ -3.20788853   0.78234013   3.46750601]]\n"
     ]
    }
   ],
   "source": [
    "for i in range(L.shape[0]):\n",
    "    L[i,i] = 0\n",
    "    \n",
    "LU = L + U\n",
    "p = np.array([2,1,0])\n",
    "\n",
    "#  Enter the vectors of knowns and permute them.\n",
    "I1 = np.array([1,0,0]); I1 = p0 @ I1\n",
    "I2 = np.array([0,1,0]); I2 = p0 @ I2\n",
    "I3 = np.array([0,0,1]); I3 = p0 @ I3\n",
    "\n",
    "#  Solve for the columns of our inverse matrix\n",
    "b1 = lu_solve( (LU, p), I1)\n",
    "b2 = lu_solve( (LU, p), I2)\n",
    "b3 = lu_solve( (LU, p), I3)\n",
    "\n",
    "# Make these explicitly column vectors\n",
    "b1.shape = (3,1)\n",
    "b2.shape = (3,1)\n",
    "b3.shape = (3,1)\n",
    "\n",
    "A_inv = np.hstack( (b1,b2,b3) )\n",
    "print(A_inv)"
   ]
  },
  {
   "cell_type": "code",
   "execution_count": 367,
   "metadata": {},
   "outputs": [
    {
     "name": "stdout",
     "output_type": "stream",
     "text": [
      "[[ -6.82949293   2.76364776   8.63059432]\n",
      " [-16.99882312   6.66263299  19.92235287]\n",
      " [ -3.20788853   0.78234013   3.46750601]]\n"
     ]
    }
   ],
   "source": [
    "#  Is our answer the same as Numpy's built-in inv function?\n",
    "A_num = np.linalg.inv(A)\n",
    "print(A_num)"
   ]
  },
  {
   "cell_type": "code",
   "execution_count": 368,
   "metadata": {},
   "outputs": [
    {
     "name": "stdout",
     "output_type": "stream",
     "text": [
      "True\n"
     ]
    }
   ],
   "source": [
    "# can't use np.array_equiv(A_num, A_inv) need to use np.allclose\n",
    "print(np.allclose(A_num, A_inv))"
   ]
  },
  {
   "cell_type": "markdown",
   "metadata": {},
   "source": [
    "If $ A = PLU $ we then know that $ (\\det{A}) = (\\det{P})(\\det{L})(\\det{U}) $ because the determinant of a triangular matrix is just the product of the diagonal since those are the eigenvalues."
   ]
  },
  {
   "cell_type": "code",
   "execution_count": 369,
   "metadata": {},
   "outputs": [
    {
     "name": "stdout",
     "output_type": "stream",
     "text": [
      "0.0 \n",
      "\n",
      "0 \n",
      "\n",
      "True\n"
     ]
    }
   ],
   "source": [
    "detP = np.linalg.det(P)\n",
    "detL = np.linalg.det(L)\n",
    "detU = np.linalg.det(U)\n",
    "\n",
    "detA = detP*detL*detU\n",
    "\n",
    "\n",
    "print(detA, '\\n')\n",
    "print(round(np.linalg.det(A)), '\\n')\n",
    "print(np.allclose(detA, round(np.linalg.det(A))))"
   ]
  },
  {
   "cell_type": "markdown",
   "metadata": {},
   "source": [
    "Had to round ```np.linalg.det(A)``` due to the numerical precision of numpy, Singular matrices are apparently not numerically well defined in terms of floating point values. \n",
    "\n",
    "\n",
    "```lu_factor``` has $ O(n^3) $ and ```lu_solve``` has $ O(n^2) $, while Solve has $ O(n^3) $ so theoretically we want to LU-Factor initial systems then use ```lu_solve```."
   ]
  }
 ],
 "metadata": {
  "kernelspec": {
   "display_name": "Python 3.10.5 64-bit",
   "language": "python",
   "name": "python3"
  },
  "language_info": {
   "codemirror_mode": {
    "name": "ipython",
    "version": 3
   },
   "file_extension": ".py",
   "mimetype": "text/x-python",
   "name": "python",
   "nbconvert_exporter": "python",
   "pygments_lexer": "ipython3",
   "version": "3.10.5"
  },
  "orig_nbformat": 4,
  "vscode": {
   "interpreter": {
    "hash": "6e8bf649a34b0a472cdef9d9663a72b0b6461ac50e8a23915da2a0695309be53"
   }
  }
 },
 "nbformat": 4,
 "nbformat_minor": 2
}
