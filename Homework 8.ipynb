{
 "cells": [
  {
   "cell_type": "markdown",
   "metadata": {},
   "source": [
    "## Noah Pishaki - Physics 490 - Assignment 8"
   ]
  },
  {
   "cell_type": "code",
   "execution_count": 81,
   "metadata": {},
   "outputs": [],
   "source": [
    "import numpy as np\n",
    "import scipy as sp\n",
    "import matplotlib.pyplot as plt"
   ]
  },
  {
   "cell_type": "markdown",
   "metadata": {},
   "source": [
    "### Problem 1: Please derive $ \\bold{H} = -\\frac{1}{2}\\begin{pmatrix} \\omega_I + \\omega_{II} - \\frac{\\gamma}{2} & 0 & 0 & 0 \\\\ 0 & \\omega_I + \\omega_{II} - \\frac{\\gamma}{2} & -\\gamma & 0 \\\\ 0 & -\\gamma & -\\omega_I + \\omega_{II} + \\frac{\\gamma}{2} & 0 \\\\ 0 & 0 & 0 & -\\omega_I - \\omega_{II} - \\frac{\\gamma}{2} \\end{pmatrix} $ from $ \\bold{H} = -\\omega_{I} \\bold{S_z} \\otimes \\bold{I} -\\omega_{II} \\bold{I} \\otimes \\bold{S_z} + \\gamma(\\bold{S_x} \\otimes \\bold{S_x} + \\bold{S_y}\\otimes\\bold{S_y} + \\bold{S_z} \\otimes \\bold{S_z}) $."
   ]
  },
  {
   "cell_type": "markdown",
   "metadata": {},
   "source": [
    "Given, $ S_{x} = \\frac{\\hbar}{2}\\begin{pmatrix} 1 & 0 \\\\ 0 & 1 \\end{pmatrix}, S_{y} = \\frac{\\hbar}{2}\\begin{pmatrix} 0 & -i \\\\ i & 0 \\end{pmatrix}, $ and $ S_{z} = \\frac{\\hbar}{2}\\begin{pmatrix} 1 & 0 \\\\ 0 & -1 \\end{pmatrix} $ \n",
    "\n",
    "Since, $ \\bold{S_x} \\otimes \\bold{S_x} = \\frac{1}{2}\\begin{pmatrix} 1 & 0 \\\\ 0 & 1 \\end{pmatrix} \\otimes \\frac{1}{2}\\begin{pmatrix} 1 & 0 \\\\ 0 & 1 \\end{pmatrix} = \\frac{1}{4}\\begin{pmatrix} 1 & 0 & 0 & 0 \\\\ 0 & 1 & 0 & 0 \\\\ 0 & 0 & 1 & 0 \\\\ 0 & 0 & 0 & 1 \\end{pmatrix} $\n",
    "\n",
    "$ \\bold{S_y}\\otimes\\bold{S_y} = \\frac{1}{2}\\begin{pmatrix} 0 & -i \\\\ i & 0 \\end{pmatrix} \\otimes \\frac{1}{2}\\begin{pmatrix} 0 & -i \\\\ i & 0 \\end{pmatrix} = \\frac{1}{4}\\begin{pmatrix} 0 & 0 & 0 & i^2 \\\\ 0 & 0 & -i^2 & 0 \\\\ 0 & -i^2 & 0 & 0 \\\\ i^2 & 0 & 0 & 0 \\end{pmatrix} = \\frac{1}{4}\\begin{pmatrix} 0 & 0 & 0 & -1 \\\\ 0 & 0 & 1 & 0 \\\\ 0 & 1 & 0 & 0 \\\\ -1 & 0 & 0 & 0 \\end{pmatrix} $\n",
    "\n",
    "$ \\bold{S_z} \\otimes \\bold{S_z} = \\frac{1}{2}\\begin{pmatrix} 1 & 0 \\\\ 0 & -1 \\end{pmatrix} \\otimes \\frac{1}{2}\\begin{pmatrix} 1 & 0 \\\\ 0 & -1 \\end{pmatrix} = \\frac{1}{4}\\begin{pmatrix} 1 & 0 & 0 & 0 \\\\ 0 & -1 & 0 & 0 \\\\ 0 & 0 & -1 & 0 \\\\ 0 & 0 & 0 & 1 \\end{pmatrix} $\n",
    "\n",
    "$ \\omega_{I}S_{z} \\otimes I = \\frac{\\omega_{I}}{2}\\begin{pmatrix} 1 & 0 \\\\ 0 & -1 \\end{pmatrix} \\otimes \\begin{pmatrix} 1 & 0 \\\\ 0 & 1 \\end{pmatrix} = \\frac{\\omega_{I}}{2}\\begin{pmatrix} 1 & 0 & 0 & 0 \\\\ 0 & 1 & 0 & 0 \\\\ 0 & 0 & -1 & 0 \\\\ 0 & 0 & 0 & -1 \\end{pmatrix} $\n",
    "\n",
    "$ -\\omega_{II} \\bold{I} \\otimes \\bold{S_z} = -\\omega_{II}\\begin{pmatrix} 1 & 0 \\\\ 0 & 1 \\end{pmatrix} \\otimes \\frac{1}{2}\\begin{pmatrix} 1 & 0 \\\\ 0 & -1 \\end{pmatrix} = \\frac{\\omega_{II}}{2}\\begin{pmatrix} -1 & 0 & 0 & 0 \\\\ 0 & 1 & 0 & 0 \\\\ 0 & 0 & 1 & 0 \\\\ 0 & 0 & 0 & -1 \\end{pmatrix} $\n",
    "\n",
    "From $ \\bold{H} = -\\omega_{I} \\bold{S_z} \\otimes \\bold{I} -\\omega_{II} \\bold{I} \\otimes \\bold{S_z} + \\gamma(\\bold{S_x} \\otimes \\bold{S_x} + \\bold{S_y}\\otimes\\bold{S_y} + \\bold{S_z} \\otimes \\bold{S_z}) $, plugging in the above we can see,\n",
    "\n",
    "$ \\bold{H} = \\frac{-\\omega_{I}}{2}\\begin{pmatrix} 1 & 0 & 0 & 0 \\\\ 0 & 1 & 0 & 0 \\\\ 0 & 0 & -1 & 0 \\\\ 0 & 0 & 0 & -1 \\end{pmatrix} - \\frac{\\omega_{II}}{2}\\begin{pmatrix} 1 & 0 & 0 & 0 \\\\ 0 & -1 & 0 & 0 \\\\ 0 & 0 & 1 & 0 \\\\ 0 & 0 & 0 & -1 \\end{pmatrix} + \\gamma(\\frac{1}{4}\\begin{pmatrix} 1 & 0 & 0 & 0 \\\\ 0 & 1 & 0 & 0 \\\\ 0 & 0 & 1 & 0 \\\\ 0 & 0 & 0 & 1 \\end{pmatrix} + \\frac{1}{4}\\begin{pmatrix} 0 & 0 & 0 & -1 \\\\ 0 & 0 & 1 & 0 \\\\ 0 & 1 & 0 & 0 \\\\ -1 & 0 & 0 & 0 \\end{pmatrix} + \\frac{1}{4}\\begin{pmatrix} -1 & 0 & 0 & 0 \\\\ 0 & 1 & 0 & 0 \\\\ 0 & 0 & 1 & 0 \\\\ 0 & 0 & 0 & -1 \\end{pmatrix}) $\n",
    "\n",
    "$ \\bold{H} = \\frac{-\\omega_{I}}{2}\\begin{pmatrix} 1 & 0 & 0 & 0 \\\\ 0 & 1 & 0 & 0 \\\\ 0 & 0 & -1 & 0 \\\\ 0 & 0 & 0 & -1 \\end{pmatrix} - \\frac{\\omega_{II}}{2}\\begin{pmatrix} 1 & 0 & 0 & 0 \\\\ 0 & -1 & 0 & 0 \\\\ 0 & 0 & 1 & 0 \\\\ 0 & 0 & 0 & -1 \\end{pmatrix} + \\gamma(\\frac{1}{4}\\begin{pmatrix} 0 & 0 & 0 & 1 \\\\ 0 & 2 & -1 & 0 \\\\ 0 & -1 & 2 & 0 \\\\ 1 & 0 & 0 & 0 \\end{pmatrix}) $\n",
    "\n",
    "$ \\bold{H} = \\begin{pmatrix} \\frac{-\\omega_{I} - \\omega_{2}}{2} + \\frac{\\gamma}{4} & 0 & 0 & 0 \\\\ 0 & \\frac{-\\omega_{I} + \\omega_{II}}{2} - \\frac{\\gamma}{4} & \\frac{-\\gamma}{2} & 0 \\\\ 0 & \\frac{-\\gamma}{2} & \\frac{\\omega_{I} - \\omega_{II}}{2} + \\frac{\\gamma}{4} & 0 \\\\ \n",
    "0 & 0 & 0 & \\frac{\\omega_{I} + \\omega_{II}}{2} + \\frac{\\gamma}{4} \\end{pmatrix} $\n",
    "\n",
    "$ \\bold{H} = -\\frac{1}{2}\\begin{pmatrix} \\omega_I + \\omega_{II} - \\frac{\\gamma}{2} & 0 & 0 & 0 \\\\ 0 & \\omega_I + \\omega_{II} - \\frac{\\gamma}{2} & -\\gamma & 0 \\\\ 0 & -\\gamma & -\\omega_I + \\omega_{II} + \\frac{\\gamma}{2} & 0 \\\\ 0 & 0 & 0 & -\\omega_I - \\omega_{II} - \\frac{\\gamma}{2} \\end{pmatrix} $"
   ]
  },
  {
   "cell_type": "markdown",
   "metadata": {},
   "source": [
    "### Problem 2: Please prove the Kronecker product for arbitrary matrices satisfies $ (\\bold{A} \\otimes \\bold{B})(\\bold{C} \\otimes \\bold{D}) = (\\bold{A}\\bold{C}) \\otimes (\\bold{B}\\bold{D}) $"
   ]
  },
  {
   "cell_type": "markdown",
   "metadata": {},
   "source": [
    "##### Note:  $ (\\bold{A} \\otimes \\bold{B})(\\bold{C} \\otimes \\bold{D}) $ is a matrix product between $ \\bold{A} \\otimes \\bold{B} $ and $ \\bold{C} \\otimes \\bold{D} $ and $ \\bold{AC} $ is the matrix product between $ A $ and $ C $"
   ]
  },
  {
   "cell_type": "markdown",
   "metadata": {},
   "source": [
    "The Mixed-Product Property:\n",
    "\n",
    "Let $ A \\in M_{m,n}, B \\in M_{p,q}, C \\in M_{n,k} D \\in M_{q,r} $ such that, \n",
    "\n",
    "$ A \\otimes B \\in M_{mp,nq}$ and $C \\otimes D \\in M_{nq, kr}$ where matrix multiplication makes sense. \n",
    "\n",
    "$ \\bold{A}\\bold{B} = \\begin{pmatrix} A_{11}B & \\cdots & A_{1n}B \\\\ \\vdots & \\ddots & \\vdots \\\\ A_{m1}B & \\cdots & A_{mn}B \\end{pmatrix} $ and $ \\bold{C}\\bold{D} = \\begin{pmatrix} C_{11}D & \\cdots & C_{1k}D \\\\ \\vdots & \\ddots & \\vdots \\\\ C_{n1}D & \\cdots & C_{nk}D \\end{pmatrix} $\n",
    "\n",
    "$ \\bold{A}\\bold{B} \\otimes \\bold{C}\\bold{D} = \\begin{pmatrix} (\\sum_{A_{1n}C_{n1}})BD & \\cdots & (\\sum_{A_{1n}C_{1k}})BD \\\\ \\vdots & \\ddots & \\vdots \\\\ (\\sum_{A_{mn}C_{n1}})BD & \\cdots & (\\sum_{A_{mn}C_{nk}})BD \\end{pmatrix} $\n",
    "\n",
    "$ \\bold{A}\\bold{B} \\otimes \\bold{C}\\bold{D} = \\begin{pmatrix} ((AC)_{11})BD & \\cdots & ((AC)_{1k})BD \\\\ \\vdots & \\ddots & \\vdots \\\\ ((AC)_{m1})BD & \\cdots & ((AC)_{mk})BD \\end{pmatrix} $\n",
    "\n",
    "Then, $ (A \\otimes B)(C \\otimes D) = AC \\otimes BD $\n",
    "\n",
    "Further, $ (A \\otimes B)^{-1} = A^{-1} \\otimes B^{-1} $ if A and B are nonsingular.\n",
    "\n",
    "$ A \\otimes B  = ( I_2 \\otimes B )( A \\otimes I_1 ) = (A \\otimes I_1)(I_2 \\otimes B) $ if $ A = Q \\otimes U $ and Q and U are orthogonal (or unitary), then A is also orthogonal (or unitary)."
   ]
  },
  {
   "cell_type": "markdown",
   "metadata": {},
   "source": [
    "### Problem 3: Take the two particle Hamiltonian. Fix $ \\omega_{II} = 2\\omega_{I} $ and $ \\gamma = 1 $. Plot the eigenvalues as a function of $ \\omega_{I} $ in the interval $ 0 \\le \\omega_{I} \\le 3.0 $"
   ]
  },
  {
   "cell_type": "code",
   "execution_count": 82,
   "metadata": {},
   "outputs": [
    {
     "data": {
      "image/png": "[encoded data removed]",
      "text/plain": [
       "<Figure size 640x480 with 1 Axes>"
      ]
     },
     "metadata": {},
     "output_type": "display_data"
    }
   ],
   "source": [
    "def twospins(omI,omII,gam): # omI, omII are the frequencies of the two spins\n",
    "    hbar = 1. \n",
    "    paulis = paulimatrices()\n",
    "    iden = np.identity(2)\n",
    "\n",
    "    SIs = [hbar*kron(pa,iden)/2 for pa in paulis] # spin I\n",
    "    SIIs = [hbar*kron(iden,pa)/2 for pa in paulis] # spin II\n",
    "    SIdotII = sum([SIs[i]@SIIs[i] for i in range(3)]) # S.I dot S.II\n",
    "\n",
    "    H = -omI*SIs[2] - omII*SIIs[2] + gam*SIdotII # Hamiltonian\n",
    "    H = H.real \n",
    "    return H\n",
    "\n",
    "def paulimatrices():  # Pauli matrices\n",
    "    sigx = np.array([0.,1,1,0]).reshape(2,2)\n",
    "    sigy = np.array([0.,-1j,1j,0]).reshape(2,2)\n",
    "    sigz = np.array([1.,0,0,-1]).reshape(2,2)\n",
    "    return sigx, sigy, sigz \n",
    "\n",
    "def kron(U,V): # Kronecker product\n",
    "    n = U.shape[0]\n",
    "    p = V.shape[0]\n",
    "    W = np.zeros((n*p,n*p), dtype=np.complex64)\n",
    "    for i in range(n):\n",
    "        for k in range(n):\n",
    "            for j in range(p):\n",
    "                for l in range(p):\n",
    "                    W[p*i+j,p*k+l] = U[i,k]*V[j,l] \n",
    "    return W\n",
    "\n",
    "def qrmet(inA,kmax=100): # QR method\n",
    "    A = np.copy(inA)\n",
    "    for k in range(1,kmax):\n",
    "        Q, R = qrdec(A)\n",
    "        A = R@Q\n",
    "        # print(k, np.diag(A))\n",
    "    qreigvals = np.diag(A)\n",
    "    return qreigvals\n",
    "\n",
    "def qrdec(A): # QR decomposition\n",
    "    n = A.shape[0]\n",
    "    Ap = np.copy(A)\n",
    "    Q = np.zeros((n,n))\n",
    "    R = np.zeros((n,n))\n",
    "    for j in range(n):\n",
    "        for i in range(j):\n",
    "            R[i,j] = Q[:,i]@A[:,j]\n",
    "            Ap[:,j] -= R[i,j]*Q[:,i]\n",
    "\n",
    "        R[j,j] = mag(Ap[:,j])\n",
    "        Q[:,j] = Ap[:,j]/R[j,j]\n",
    "    return Q, R\n",
    "\n",
    "def mag(xs): # magnitude of a vector\n",
    "    return np.sqrt(np.sum(xs*xs))\n",
    "\n",
    "if __name__ == '__main__':\n",
    "    energy_eig = []\n",
    "    gam = 1 #coupling constant\n",
    "    for i in np.linspace(0,3,4): # domain of angular frequency spin I\n",
    "        omI = i #varying angular frequency of spin I\n",
    "        omII = 2*omI #angular frequency of spin II\n",
    "        H = twospins(omI,omII,gam)\n",
    "        eigvals = qrmet(H)\n",
    "        energy_eig.append(eigvals)\n",
    "\n",
    "ax, fig = plt.subplots()\n",
    "plt.plot(energy_eig)\n",
    "plt.xlabel('$\\omega_I$')\n",
    "plt.ylabel('Energy Eigenvalues')\n",
    "plt.show()"
   ]
  },
  {
   "cell_type": "code",
   "execution_count": null,
   "metadata": {},
   "outputs": [],
   "source": []
  }
 ],
 "metadata": {
  "kernelspec": {
   "display_name": "Python 3.10.5 64-bit",
   "language": "python",
   "name": "python3"
  },
  "language_info": {
   "codemirror_mode": {
    "name": "ipython",
    "version": 3
   },
   "file_extension": ".py",
   "mimetype": "text/x-python",
   "name": "python",
   "nbconvert_exporter": "python",
   "pygments_lexer": "ipython3",
   "version": "3.10.5"
  },
  "orig_nbformat": 4,
  "vscode": {
   "interpreter": {
    "hash": "6e8bf649a34b0a472cdef9d9663a72b0b6461ac50e8a23915da2a0695309be53"
   }
  }
 },
 "nbformat": 4,
 "nbformat_minor": 2
}
