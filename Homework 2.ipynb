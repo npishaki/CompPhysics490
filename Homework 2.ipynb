{
 "cells": [
  {
   "cell_type": "markdown",
   "metadata": {},
   "source": [
    "### Noah Pishaki - Homework 2 - PHYS 490"
   ]
  },
  {
   "cell_type": "markdown",
   "metadata": {},
   "source": [
    "Importing modules/libraries:"
   ]
  },
  {
   "cell_type": "code",
   "execution_count": 63,
   "metadata": {},
   "outputs": [],
   "source": [
    "import math"
   ]
  },
  {
   "cell_type": "markdown",
   "metadata": {},
   "source": [
    "## Assignment #1"
   ]
  },
  {
   "cell_type": "markdown",
   "metadata": {},
   "source": [
    "Show that the relative error bound for division $x = \\frac{a}{b}$ \n",
    "\n",
    "is also $|\\delta x| \\le |\\delta a| + |\\delta b|$"
   ]
  },
  {
   "cell_type": "code",
   "execution_count": 64,
   "metadata": {},
   "outputs": [
    {
     "name": "stdout",
     "output_type": "stream",
     "text": [
      " Error:  0.0 \n",
      " x=  1.0\n",
      "True\n"
     ]
    }
   ],
   "source": [
    "a = float(input(\"What is the a value?\"))\n",
    "a_uncertainty = float(input(\"What is the uncertainty in a\"))\n",
    "b = float(input(\"What is the b value?\"))\n",
    "b_uncertainty = float(input(\"What is the uncertainty in a\"))\n",
    "\n",
    "x = a/b\n",
    "y = a_uncertainty/b_uncertainty\n",
    "\n",
    "error = abs(x - y)\n",
    "relative_error = error/n\n",
    "total_uncertainty = a_uncertainty/b_uncertainty\n",
    "estimated_value = relative_error + total_uncertainty\n",
    "  \n",
    "print( \" Error: \", relative_error, \"\\n x= \", relative_error + total_uncertainty)\n",
    "\n",
    "if x <= estimated_value:\n",
    "    print(\"True\")\n",
    "else:\n",
    "    print(\"False\")"
   ]
  },
  {
   "cell_type": "markdown",
   "metadata": {},
   "source": [
    "## Assignment #2"
   ]
  },
  {
   "cell_type": "markdown",
   "metadata": {},
   "source": [
    "Givens:"
   ]
  },
  {
   "cell_type": "code",
   "execution_count": 65,
   "metadata": {},
   "outputs": [],
   "source": [
    "a = 1\n",
    "b = 10E8\n",
    "c = 1"
   ]
  },
  {
   "cell_type": "markdown",
   "metadata": {},
   "source": [
    "Defining the solution to $ax^{2} + bx + c = 0$ \n",
    "\n",
    "As $x_{\\pm} = \\frac{-b \\pm \\sqrt{b^{2}-4ac}}{2a}$"
   ]
  },
  {
   "cell_type": "code",
   "execution_count": 66,
   "metadata": {},
   "outputs": [],
   "source": [
    "x = (-(b)-math.sqrt((b)*(b)-4*(a)*(c)))/(2*a)\n",
    "x_bad = (-(b)+math.sqrt((b)*(b)-4*(a)*(c)))/(2*a)\n",
    "x_good = (c)/(a*x)"
   ]
  },
  {
   "cell_type": "markdown",
   "metadata": {},
   "source": [
    "Solutions:"
   ]
  },
  {
   "cell_type": "code",
   "execution_count": 67,
   "metadata": {},
   "outputs": [
    {
     "name": "stdout",
     "output_type": "stream",
     "text": [
      "x =  -1000000000.0\n",
      "x_bad = 0.0\n",
      "x_good = -1e-09\n"
     ]
    }
   ],
   "source": [
    "print('x = ', x)\n",
    "print('x_bad =', x_bad)\n",
    "print('x_good =', x_good)"
   ]
  }
 ],
 "metadata": {
  "kernelspec": {
   "display_name": "Python 3.10.5 64-bit",
   "language": "python",
   "name": "python3"
  },
  "language_info": {
   "codemirror_mode": {
    "name": "ipython",
    "version": 3
   },
   "file_extension": ".py",
   "mimetype": "text/x-python",
   "name": "python",
   "nbconvert_exporter": "python",
   "pygments_lexer": "ipython3",
   "version": "3.10.5"
  },
  "orig_nbformat": 4,
  "vscode": {
   "interpreter": {
    "hash": "6e8bf649a34b0a472cdef9d9663a72b0b6461ac50e8a23915da2a0695309be53"
   }
  }
 },
 "nbformat": 4,
 "nbformat_minor": 2
}
