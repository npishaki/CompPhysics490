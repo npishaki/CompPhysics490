{
 "cells": [
  {
   "cell_type": "markdown",
   "metadata": {},
   "source": [
    "## Noah Pishaki - Physics 490 - Assignment 7"
   ]
  },
  {
   "cell_type": "code",
   "execution_count": 471,
   "metadata": {},
   "outputs": [],
   "source": [
    "import numpy as np"
   ]
  },
  {
   "cell_type": "markdown",
   "metadata": {},
   "source": [
    "#### Problem 1: Modify the code of the “Power Method” by implementing the termination criterion in  $ \\sum_{j=0}^{n-1} \\frac{q_j^{k} - q_j^{(k-1)}}{q_j^{(k)}} \\le \\epsilon $. (Eq. 2)"
   ]
  },
  {
   "cell_type": "code",
   "execution_count": 472,
   "metadata": {},
   "outputs": [
    {
     "name": "stdout",
     "output_type": "stream",
     "text": [
      "1 [0.5 0.5 0.5 0.5] 0.0\n",
      " \n",
      "My Eigenvalue:  21.283270085269614\n",
      "My Eigenvalue:  [0.5 0.5 0.5 0.5]\n",
      " \n",
      "Numpy's Eigenvalue:  21.316662663452043\n",
      "Numpy's Eigenvector:  [0.44439562 0.48218122 0.51720906 0.55000781]\n"
     ]
    }
   ],
   "source": [
    "def create_matrix(n,val): # create a matrix of size n x n\n",
    "    A = np.arange(val,val+n*n).reshape(n,n)\n",
    "    A = np.sqrt(A) \n",
    "    bs = (A[0,:])**2.1 \n",
    "    return A, bs\n",
    "\n",
    "def mag(xs): # magnitude of a vector\n",
    "    return np.sqrt(np.sum(xs*xs))\n",
    "\n",
    "def termcrit(qs,qnews): # termination criterion\n",
    "    errs = np.abs((qnews - qs)/qnews)\n",
    "    return np.sum(errs) # sum of errors\n",
    "\n",
    "def power(A,kmax=int(float(input(\"Enter the number of iterations: \"))), tol=float(input(\"Enter the tolerance: \"))): # power method\n",
    "    zs = np.ones(A.shape[0])\n",
    "    qs = zs/mag(zs) \n",
    "    for k in range(1,kmax):\n",
    "        zs = np.ones(A.shape[0]) \n",
    "        znews = np.ones(A.shape[0]) \n",
    "        qs = zs/mag(zs)\n",
    "        qnews = znews/mag(znews)\n",
    "\n",
    "        if qs@qnews<0: # if the sign of the eigenvector changes\n",
    "            qnews = -qnews # change the sign of the eigenvector\n",
    "\n",
    "        err = termcrit(qs,qnews)\n",
    "        print(k, qnews, err) \n",
    "\n",
    "        if err < tol: # if the error is less than the tolerance\n",
    "            lam = qnews@A@qnews # calculate the eigenvalue\n",
    "            break\n",
    "\n",
    "    else: # if the error is not less than the tolerance\n",
    "        lam = qnews = None # set the eigenvalue and eigenvector to None\n",
    "\n",
    "    return lam, qnews # return the eigenvalue and eigenvector\n",
    "\n",
    "def testeigone(f,A,indx=0): # test the power method against numpy\n",
    "    \n",
    "    # eigenvalue and eigenvector using power method\n",
    "    eigval, eigvec = f(A)\n",
    "    print(\" \"); print(\"My Eigenvalue: \", eigval); print(\"My Eigenvalue: \", eigvec)\n",
    "\n",
    "    # numpy's eigenvalue and eigvector\n",
    "    npeigvals, npeigvecs = np.linalg.eig(A)\n",
    "    print(\" \")\n",
    "    print(\"Numpy's Eigenvalue: \", npeigvals[indx]); print(\"Numpy's Eigenvector: \",npeigvecs[:,indx])\n",
    "\n",
    "\n",
    "if __name__ == '__main__':\n",
    "    A, bs = create_matrix(4,21)\n",
    "    testeigone(power,A)"
   ]
  },
  {
   "cell_type": "markdown",
   "metadata": {},
   "source": [
    "#### Problem 2: Prove mathematically that product of upper-triangular matrices is still an upper-triangular matrix (without programming)."
   ]
  },
  {
   "cell_type": "markdown",
   "metadata": {},
   "source": [
    "Consider a square $(m=n)$ Matrix $C \\equiv AB$ where $A$ and $B$ are upper triangular matrices:\n",
    "\n",
    "$ A = \\begin{bmatrix} \n",
    "    a_{11} & \\dots & a_{1n} \\\\\n",
    "    \\vdots & \\vdots & \\ddots & \\\\\n",
    "    0 & \\dots & a_{mn} \n",
    "    \\end{bmatrix}\n",
    "\\qquad\n",
    "B = \\begin{bmatrix} \n",
    "    b_{11} & \\dots  & b_{1n}\\\\\n",
    "    \\vdots & \\ddots & \\vdots\\\\\n",
    "    0 & \\dots  & b_{mn} \n",
    "    \\end{bmatrix} $ \n",
    "\n",
    "Evaluating the Matrix multiplication of both $A$ and $B$ we see that,\n",
    "\n",
    "$C_{mn} = \\sum_{k=1}^{n} a_{mk}b_{kn} $\n",
    " \n",
    "$ \\quad\\quad = \\sum_{k=1}^{m-1} a_{mk}b_{kn} + \\sum_{k=1}^{n} a_{km}b_{kn} $ \n",
    "\n",
    "$ \\quad\\quad = 0 + 0$\n",
    "\n",
    "$ \\quad\\quad = 0 $\n",
    "\n",
    "Since, the term $ a_{mk} = 0$ when, $ k \\le m-1 $ and the term $ b_{kn} = 0$ when, $ k \\ge m $\n",
    "\n",
    "Hence, if $ m > n $ then $C_{mn} = 0 $, therefore $C$ is also an upper triangular matrix."
   ]
  }
 ],
 "metadata": {
  "kernelspec": {
   "display_name": "Python 3.10.5 64-bit",
   "language": "python",
   "name": "python3"
  },
  "language_info": {
   "codemirror_mode": {
    "name": "ipython",
    "version": 3
   },
   "file_extension": ".py",
   "mimetype": "text/x-python",
   "name": "python",
   "nbconvert_exporter": "python",
   "pygments_lexer": "ipython3",
   "version": "3.10.5"
  },
  "orig_nbformat": 4,
  "vscode": {
   "interpreter": {
    "hash": "6e8bf649a34b0a472cdef9d9663a72b0b6461ac50e8a23915da2a0695309be53"
   }
  }
 },
 "nbformat": 4,
 "nbformat_minor": 2
}
